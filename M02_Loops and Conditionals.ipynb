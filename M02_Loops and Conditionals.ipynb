{
 "cells": [
  {
   "cell_type": "code",
   "execution_count": 18,
   "id": "c99b875a",
   "metadata": {},
   "outputs": [],
   "source": [
    "import random"
   ]
  },
  {
   "cell_type": "code",
   "execution_count": 19,
   "id": "9c59152b",
   "metadata": {},
   "outputs": [],
   "source": [
    "#Generate the secret and guess values between 1 and 10...\n",
    "secret = random.randint(1,10)\n",
    "guess = random.randint(1,10)"
   ]
  },
  {
   "cell_type": "code",
   "execution_count": 7,
   "id": "df1d08db",
   "metadata": {},
   "outputs": [
    {
     "name": "stdout",
     "output_type": "stream",
     "text": [
      "Guess value is =  2\n",
      "Secret value is =  5\n"
     ]
    }
   ],
   "source": [
    "#Print values of Guess and secret...\n",
    "print(\"Guess value is = \", guess)\n",
    "print(\"Secret value is = \", secret)"
   ]
  },
  {
   "cell_type": "code",
   "execution_count": null,
   "id": "9a39d6d0",
   "metadata": {},
   "outputs": [],
   "source": [
    "#Lets check if the guess is less than secret then print 'too low!'...\n",
    "if guess < secret:\n",
    "    print(\"too low!\")\n",
    "    "
   ]
  },
  {
   "cell_type": "code",
   "execution_count": null,
   "id": "017546a1",
   "metadata": {},
   "outputs": [],
   "source": [
    "#Lets check if the guess is greater than secret then print 'too high!'...\n",
    "elif guess > secret:\n",
    "    print(\"too high!\")"
   ]
  },
  {
   "cell_type": "code",
   "execution_count": 21,
   "id": "a5e69c4e",
   "metadata": {},
   "outputs": [
    {
     "ename": "SyntaxError",
     "evalue": "invalid syntax (4006148391.py, line 2)",
     "output_type": "error",
     "traceback": [
      "\u001b[1;36m  Input \u001b[1;32mIn [21]\u001b[1;36m\u001b[0m\n\u001b[1;33m    else:\u001b[0m\n\u001b[1;37m    ^\u001b[0m\n\u001b[1;31mSyntaxError\u001b[0m\u001b[1;31m:\u001b[0m invalid syntax\n"
     ]
    }
   ],
   "source": [
    "#otherwise see if both values are the same 'just right!'...\n",
    "else:\n",
    " print(\"just right!\")\n",
    "      "
   ]
  },
  {
   "cell_type": "code",
   "execution_count": null,
   "id": "4844090c",
   "metadata": {},
   "outputs": [],
   "source": []
  }
 ],
 "metadata": {
  "kernelspec": {
   "display_name": "Python 3 (ipykernel)",
   "language": "python",
   "name": "python3"
  },
  "language_info": {
   "codemirror_mode": {
    "name": "ipython",
    "version": 3
   },
   "file_extension": ".py",
   "mimetype": "text/x-python",
   "name": "python",
   "nbconvert_exporter": "python",
   "pygments_lexer": "ipython3",
   "version": "3.9.12"
  }
 },
 "nbformat": 4,
 "nbformat_minor": 5
}
